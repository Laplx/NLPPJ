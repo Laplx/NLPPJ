{
 "cells": [
  {
   "cell_type": "code",
   "execution_count": null,
   "id": "44f00680",
   "metadata": {},
   "outputs": [
    {
     "ename": "",
     "evalue": "",
     "output_type": "error",
     "traceback": [
      "\u001b[1;31m内核无法启动，因为 Python 环境“elmo (Python -1.-1.-1)”不再可用。请考虑选择另一个内核或刷新 Python 环境列表。"
     ]
    }
   ],
   "source": [
    "from allennlp.modules.elmo import Elmo, batch_to_ids"
   ]
  },
  {
   "cell_type": "code",
   "execution_count": null,
   "id": "57f87180",
   "metadata": {},
   "outputs": [],
   "source": [
    "options_file = \"options.json\" # 配置文件地址 \n",
    "weight_file = \"weights.hdf5\" # 权重文件地址\n",
    "# 这里的1表示产生一组线性加权的词向量。\n",
    "# 如果改成2 即产生两组不同的线性加权的词向量。\n",
    "elmo = Elmo(options_file, weight_file, 1, dropout=0)\n",
    "\n",
    "# use batch_to_ids to convert sentences to character ids\n",
    "sentence_lists = [['I', 'love', 'you', '.'], ['Sorry', ',', 'I', 'don', \"'t\", 'love', 'you', '.']] #references\n",
    "\n",
    "character_ids = batch_to_ids(sentence_lists)\n",
    "\n",
    "embeddings = elmo(character_ids)['elmo_representations'][0]\n",
    "elmo_mask = elmo(character_ids)['mask']\n",
    "\n",
    "print(embeddings)\n",
    "print(elmo_mask)\n",
    "print(embeddings.size())\n",
    "\n",
    "————————————————\n",
    "\n",
    "                            版权声明：本文为博主原创文章，遵循 CC 4.0 BY-SA 版权协议，转载请附上原文出处链接和本声明。\n",
    "                        \n",
    "原文链接：https://blog.csdn.net/CSTGYinZong/article/details/121833353"
   ]
  }
 ],
 "metadata": {
  "kernelspec": {
   "display_name": "elmo",
   "language": "python",
   "name": "python3"
  },
  "language_info": {
   "name": "python",
   "version": "-1.-1.-1"
  }
 },
 "nbformat": 4,
 "nbformat_minor": 5
}

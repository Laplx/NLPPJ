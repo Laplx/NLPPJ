{
 "cells": [
  {
   "cell_type": "code",
   "execution_count": null,
   "id": "44f00680",
   "metadata": {},
   "outputs": [
    {
     "ename": "",
     "evalue": "",
     "output_type": "error",
     "traceback": [
      "\u001b[1;31m内核无法启动，因为 Python 环境“elmo (Python -1.-1.-1)”不再可用。请考虑选择另一个内核或刷新 Python 环境列表。"
     ]
    }
   ],
   "source": [
    "import numpy as np\n",
    "import os\n",
    "import tensorflow as tf\n",
    "import tensorflow_hub as hub\n",
    "\n",
    "os.environ['TFHUB_MODEL_LOAD_FORMAT'] = 'COMPRESSED'\n",
    "os.environ['TFHUB_CACHE_DIR'] = '/tmp/tfhub'\n",
    "model_url = \"https://hub.tensorflow.google.cn/google/elmo/3\"\n",
    "elmo = hub.load(model_url).signatures[\"default\"]"
   ]
  },
  {
   "cell_type": "code",
   "execution_count": null,
   "id": "d1772f8b",
   "metadata": {},
   "outputs": [],
   "source": [
    "# check\n",
    "text = \"The quick brown fox jumps over the lazy dog.\"\n",
    "result = elmo(tf.constant([text]))\n",
    "print(\"ELMo output keys:\", result.keys())\n",
    "embeddings = result[\"elmo\"]\n",
    "print(embeddings)"
   ]
  }
 ],
 "metadata": {
  "kernelspec": {
   "display_name": "elmo",
   "language": "python",
   "name": "python3"
  },
  "language_info": {
   "name": "python",
   "version": "-1.-1.-1"
  }
 },
 "nbformat": 4,
 "nbformat_minor": 5
}
